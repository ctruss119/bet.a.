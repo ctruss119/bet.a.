{
  "nbformat": 4,
  "nbformat_minor": 0,
  "metadata": {
    "colab": {
      "provenance": [],
      "authorship_tag": "ABX9TyP66HBAVNB1oVx6etu5mmhr",
      "include_colab_link": true
    },
    "kernelspec": {
      "name": "python3",
      "display_name": "Python 3"
    },
    "language_info": {
      "name": "python"
    }
  },
  "cells": [
    {
      "cell_type": "markdown",
      "metadata": {
        "id": "view-in-github",
        "colab_type": "text"
      },
      "source": [
        "<a href=\"https://colab.research.google.com/github/ctruss119/bet.a./blob/main/W3/inClass.ipynb\" target=\"_parent\"><img src=\"https://colab.research.google.com/assets/colab-badge.svg\" alt=\"Open In Colab\"/></a>"
      ]
    },
    {
      "cell_type": "code",
      "execution_count": 4,
      "metadata": {
        "id": "99ceLe3gqDrl"
      },
      "outputs": [],
      "source": [
        "from tensorflow.keras.models import Sequential\n",
        "from tensorflow.keras.layers import Dense\n",
        "import numpy as np\n",
        "\n",
        "Data_set = np.loadtxt('http://raw.githubusercontent.com/dhshinEddie/DeepKMOU/main/W3/ThoraricSurgery3.csv', delimiter =\",\")"
      ]
    },
    {
      "cell_type": "code",
      "source": [
        "X = Data_set[:,0:16]\n",
        "y = Data_set[:,16]"
      ],
      "metadata": {
        "id": "IzKBjfIlsITI"
      },
      "execution_count": 5,
      "outputs": []
    },
    {
      "cell_type": "code",
      "source": [
        "model = Sequential()\n",
        "model.add(Dense(30,input_dim=16,activation='relu'))\n",
        "model.add(Dense(1,input_dim=16,activation='sigmoid'))"
      ],
      "metadata": {
        "id": "59wdihevsV96"
      },
      "execution_count": 6,
      "outputs": []
    },
    {
      "cell_type": "code",
      "source": [
        "model.compile(loss= binary_crossentropy, optimizer='adam',metrics=['accuracy'])\n",
        "history = model.fit(X, y, epochs = 5, batch_size = 16)"
      ],
      "metadata": {
        "id": "YhJutLpzsuXh"
      },
      "execution_count": null,
      "outputs": []
    }
  ]
}